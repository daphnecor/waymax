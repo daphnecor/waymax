{
 "cells": [
  {
   "cell_type": "code",
   "execution_count": 1,
   "metadata": {},
   "outputs": [
    {
     "name": "stderr",
     "output_type": "stream",
     "text": [
      "2024-04-22 19:45:27.070593: W tensorflow/compiler/tf2tensorrt/utils/py_utils.cc:38] TF-TRT Warning: Could not find TensorRT\n"
     ]
    }
   ],
   "source": [
    "%load_ext autoreload\n",
    "%autoreload 2\n",
    "\n",
    "import os\n",
    "import shutil\n",
    "\n",
    "import jax\n",
    "from omegaconf import OmegaConf\n",
    "from orbax import checkpoint as ocp\n",
    "import wandb\n",
    "\n",
    "from rl.config.config import Config\n",
    "from rl.mappo import init_config, make_train\n",
    "from utils import RunnerState, init_or_restore_run\n"
   ]
  },
  {
   "cell_type": "code",
   "execution_count": 3,
   "metadata": {},
   "outputs": [
    {
     "name": "stdout",
     "output_type": "stream",
     "text": [
      "{'LR': 0.001, 'BATCH_SIZE': 1024, 'EPOCHS': 10, 'NUM_WORKERS': 4, 'NUM_ENVS': 128, 'NUM_STEPS': 128, 'TOTAL_TIMESTEPS': 10000000.0, 'FC_DIM_SIZE': 128, 'HIDDEN_DIM': 128, 'UPDATE_EPOCHS': 4, 'NUM_MINIBATCHES': 4, 'GAMMA': 0.99, 'GAE_LAMBDA': 0.95, 'CLIP_EPS': 0.2, 'SCALE_CLIP_EPS': False, 'ENT_COEF': 0.0, 'VF_COEF': 0.5, 'MAX_GRAD_NORM': 0.25, 'ACTIVATION': 'relu', 'OBS_WITH_AGENT_ID': True, 'MAP_NAME': '2s3z', 'SEED': 0, 'ANNEAL_LR': False, 'overwrite': False, 'ckpt_freq': 50, 'render_freq': 1, 'WANDB_MODE': 'run', 'ENTITY': '', 'PROJECT': 'waymax_saphne', 'NUM_ACTORS': -1, 'MINIBATCH_SIZE': -1, 'NUM_UPDATES': -1, 'exp_dir': '', 'ckpt_dir': '', 'max_num_objects': 1}\n",
      "--- TOTAL STARTUP COSTS (make data_iter + env) = 80.29227455891669 s ---\n",
      " of which \n",
      "\n",
      "--- DATA ITER COSTS = 8.169934153556824e-05 s ---\n",
      "--- NEXT DATA ITER COSTS = 80.29162715747952 s ---\n"
     ]
    },
    {
     "data": {
      "text/html": [
       "Finishing last run (ID:cmhmmogw) before initializing another..."
      ],
      "text/plain": [
       "<IPython.core.display.HTML object>"
      ]
     },
     "metadata": {},
     "output_type": "display_data"
    },
    {
     "data": {
      "text/html": [
       " View run <strong style=\"color:#cdcd00\">balmy-wind-114</strong> at: <a href='https://wandb.ai/pathfinding-nca/waymax_saphne/runs/cmhmmogw' target=\"_blank\">https://wandb.ai/pathfinding-nca/waymax_saphne/runs/cmhmmogw</a><br/> View project at: <a href='https://wandb.ai/pathfinding-nca/waymax_saphne' target=\"_blank\">https://wandb.ai/pathfinding-nca/waymax_saphne</a><br/>Synced 6 W&B file(s), 0 media file(s), 0 artifact file(s) and 0 other file(s)"
      ],
      "text/plain": [
       "<IPython.core.display.HTML object>"
      ]
     },
     "metadata": {},
     "output_type": "display_data"
    },
    {
     "data": {
      "text/html": [
       "Find logs at: <code>saves/0/wandb/run-20240422_194705-cmhmmogw/logs</code>"
      ],
      "text/plain": [
       "<IPython.core.display.HTML object>"
      ]
     },
     "metadata": {},
     "output_type": "display_data"
    },
    {
     "data": {
      "text/html": [
       "Successfully finished last run (ID:cmhmmogw). Initializing new run:<br/>"
      ],
      "text/plain": [
       "<IPython.core.display.HTML object>"
      ]
     },
     "metadata": {},
     "output_type": "display_data"
    },
    {
     "data": {
      "text/html": [
       "Tracking run with wandb version 0.16.6"
      ],
      "text/plain": [
       "<IPython.core.display.HTML object>"
      ]
     },
     "metadata": {},
     "output_type": "display_data"
    },
    {
     "data": {
      "text/html": [
       "Run data is saved locally in <code>saves/0/wandb/run-20240422_194849-9jetb8f6</code>"
      ],
      "text/plain": [
       "<IPython.core.display.HTML object>"
      ]
     },
     "metadata": {},
     "output_type": "display_data"
    },
    {
     "data": {
      "text/html": [
       "Syncing run <strong><a href='https://wandb.ai/pathfinding-nca/waymax_saphne/runs/9jetb8f6' target=\"_blank\">rich-resonance-115</a></strong> to <a href='https://wandb.ai/pathfinding-nca/waymax_saphne' target=\"_blank\">Weights & Biases</a> (<a href='https://wandb.me/run' target=\"_blank\">docs</a>)<br/>"
      ],
      "text/plain": [
       "<IPython.core.display.HTML object>"
      ]
     },
     "metadata": {},
     "output_type": "display_data"
    },
    {
     "data": {
      "text/html": [
       " View project at <a href='https://wandb.ai/pathfinding-nca/waymax_saphne' target=\"_blank\">https://wandb.ai/pathfinding-nca/waymax_saphne</a>"
      ],
      "text/plain": [
       "<IPython.core.display.HTML object>"
      ]
     },
     "metadata": {},
     "output_type": "display_data"
    },
    {
     "data": {
      "text/html": [
       " View run at <a href='https://wandb.ai/pathfinding-nca/waymax_saphne/runs/9jetb8f6' target=\"_blank\">https://wandb.ai/pathfinding-nca/waymax_saphne/runs/9jetb8f6</a>"
      ],
      "text/plain": [
       "<IPython.core.display.HTML object>"
      ]
     },
     "metadata": {},
     "output_type": "display_data"
    }
   ],
   "source": [
    "config = OmegaConf.create(Config())\n",
    "init_config(config)\n",
    "if config.overwrite:\n",
    "    shutil.rmtree(config.exp_dir, ignore_errors=True)\n",
    "\n",
    "options = ocp.CheckpointManagerOptions(\n",
    "    max_to_keep=2, create=True)\n",
    "checkpoint_manager = ocp.CheckpointManager(\n",
    "    config.ckpt_dir, options=options)\n",
    "\n",
    "rng = jax.random.PRNGKey(config.SEED)\n",
    "latest_update_step = checkpoint_manager.latest_step()\n",
    "runner_state, env, scenario, latest_update_step, wandb_run_id, wandb_resume = \\\n",
    "    init_or_restore_run(config, checkpoint_manager, latest_update_step, rng)\n",
    "latest_update_step = 0 if latest_update_step is None else latest_update_step\n",
    "\n",
    "os.makedirs(config.exp_dir, exist_ok=True)\n",
    "\n",
    "run = wandb.init(\n",
    "    # entity=config.ENTITY,\n",
    "    project=config.PROJECT,\n",
    "    tags=[\"MAPPO\", config.MAP_NAME],\n",
    "    config=OmegaConf.to_container(config),\n",
    "    mode=config.WANDB_MODE,\n",
    "    dir=config.exp_dir,\n",
    "    id=wandb_run_id,\n",
    "    resume=wandb_resume,\n",
    ")\n",
    "wandb_run_id = run.id\n",
    "with open(os.path.join(config.exp_dir, \"wandb_run_id.txt\"), \"w\") as f:\n",
    "    f.write(wandb_run_id)"
   ]
  },
  {
   "cell_type": "code",
   "execution_count": 6,
   "metadata": {},
   "outputs": [
    {
     "ename": "TypeError",
     "evalue": "Scanned function carry input and carry output must have the same pytree structure, but they differ:\n  * the input carry runner_state is a <class 'utils.RunnerState'> but the corresponding component of the carry output is a <class 'utils.RunnerState'>, so their Python types differ\n\nRevise the scanned function so that its output is a pair where the first element has the same pytree structure as the first argument.",
     "output_type": "error",
     "traceback": [
      "\u001b[0;31m---------------------------------------------------------------------------\u001b[0m",
      "\u001b[0;31mTypeError\u001b[0m                                 Traceback (most recent call last)",
      "Cell \u001b[0;32mIn[6], line 4\u001b[0m\n\u001b[1;32m      1\u001b[0m \u001b[38;5;28;01mwith\u001b[39;00m jax\u001b[38;5;241m.\u001b[39mdisable_jit(\u001b[38;5;28;01mFalse\u001b[39;00m):\n\u001b[1;32m      2\u001b[0m     train_jit \u001b[38;5;241m=\u001b[39m jax\u001b[38;5;241m.\u001b[39mjit(make_train(config, checkpoint_manager, env\u001b[38;5;241m=\u001b[39menv, scenario\u001b[38;5;241m=\u001b[39mscenario,\n\u001b[1;32m      3\u001b[0m                                     latest_update_step\u001b[38;5;241m=\u001b[39mlatest_update_step, wandb_run_id\u001b[38;5;241m=\u001b[39mrun\u001b[38;5;241m.\u001b[39mid)) \n\u001b[0;32m----> 4\u001b[0m     out \u001b[38;5;241m=\u001b[39m \u001b[43mtrain_jit\u001b[49m\u001b[43m(\u001b[49m\u001b[43mrng\u001b[49m\u001b[43m,\u001b[49m\u001b[43m \u001b[49m\u001b[43mrunner_state\u001b[49m\u001b[38;5;241;43m=\u001b[39;49m\u001b[43mrunner_state\u001b[49m\u001b[43m)\u001b[49m\n\u001b[1;32m      6\u001b[0m runner_state \u001b[38;5;241m=\u001b[39m out[\u001b[38;5;124m\"\u001b[39m\u001b[38;5;124mrunner_state\u001b[39m\u001b[38;5;124m\"\u001b[39m]\n\u001b[1;32m      7\u001b[0m n_updates \u001b[38;5;241m=\u001b[39m runner_state[\u001b[38;5;241m-\u001b[39m\u001b[38;5;241m1\u001b[39m]\n",
      "    \u001b[0;31m[... skipping hidden 11 frame]\u001b[0m\n",
      "File \u001b[0;32m~/waymax/rl/mappo.py:518\u001b[0m, in \u001b[0;36mmake_train.<locals>.train\u001b[0;34m(rng, runner_state)\u001b[0m\n\u001b[1;32m    514\u001b[0m     \u001b[38;5;28;01mreturn\u001b[39;00m (runner_state, update_steps), metric\n\u001b[1;32m    516\u001b[0m _update_step_partial \u001b[38;5;241m=\u001b[39m functools\u001b[38;5;241m.\u001b[39mpartial(_update_step, render_states\u001b[38;5;241m=\u001b[39mrender_states)\n\u001b[0;32m--> 518\u001b[0m runner_state, metric \u001b[38;5;241m=\u001b[39m \u001b[43mjax\u001b[49m\u001b[38;5;241;43m.\u001b[39;49m\u001b[43mlax\u001b[49m\u001b[38;5;241;43m.\u001b[39;49m\u001b[43mscan\u001b[49m\u001b[43m(\u001b[49m\n\u001b[1;32m    519\u001b[0m \u001b[43m    \u001b[49m\u001b[43m_update_step_partial\u001b[49m\u001b[43m,\u001b[49m\u001b[43m \u001b[49m\n\u001b[1;32m    520\u001b[0m \u001b[43m    \u001b[49m\u001b[43m(\u001b[49m\u001b[43mrunner_state\u001b[49m\u001b[43m,\u001b[49m\u001b[43m \u001b[49m\u001b[43mlatest_update_step\u001b[49m\u001b[43m)\u001b[49m\u001b[43m,\u001b[49m\u001b[43m \u001b[49m\u001b[38;5;28;43;01mNone\u001b[39;49;00m\u001b[43m,\u001b[49m\u001b[43m \u001b[49m\u001b[43mconfig\u001b[49m\u001b[38;5;241;43m.\u001b[39;49m\u001b[43mNUM_UPDATES\u001b[49m\u001b[43m \u001b[49m\u001b[38;5;241;43m-\u001b[39;49m\u001b[43m \u001b[49m\u001b[43mlatest_update_step\u001b[49m\n\u001b[1;32m    521\u001b[0m \u001b[43m\u001b[49m\u001b[43m)\u001b[49m\n\u001b[1;32m    522\u001b[0m \u001b[38;5;28;01mreturn\u001b[39;00m {\u001b[38;5;124m\"\u001b[39m\u001b[38;5;124mrunner_state\u001b[39m\u001b[38;5;124m\"\u001b[39m: runner_state}\n",
      "    \u001b[0;31m[... skipping hidden 9 frame]\u001b[0m\n",
      "File \u001b[0;32m~/waymax/rl/mappo.py:256\u001b[0m, in \u001b[0;36mmake_train.<locals>.train.<locals>._update_step\u001b[0;34m(update_runner_state, unused, render_states)\u001b[0m\n\u001b[1;32m    253\u001b[0m     \u001b[38;5;28;01mreturn\u001b[39;00m runner_state, transition\n\u001b[1;32m    255\u001b[0m initial_hstates \u001b[38;5;241m=\u001b[39m runner_state\u001b[38;5;241m.\u001b[39mhstates\n\u001b[0;32m--> 256\u001b[0m runner_state, traj_batch \u001b[38;5;241m=\u001b[39m \u001b[43mjax\u001b[49m\u001b[38;5;241;43m.\u001b[39;49m\u001b[43mlax\u001b[49m\u001b[38;5;241;43m.\u001b[39;49m\u001b[43mscan\u001b[49m\u001b[43m(\u001b[49m\n\u001b[1;32m    257\u001b[0m \u001b[43m    \u001b[49m\u001b[43m_env_step\u001b[49m\u001b[43m,\u001b[49m\u001b[43m \u001b[49m\u001b[43mrunner_state\u001b[49m\u001b[43m,\u001b[49m\u001b[43m \u001b[49m\u001b[38;5;28;43;01mNone\u001b[39;49;00m\u001b[43m,\u001b[49m\u001b[43m \u001b[49m\u001b[43mconfig\u001b[49m\u001b[43m[\u001b[49m\u001b[38;5;124;43m\"\u001b[39;49m\u001b[38;5;124;43mNUM_STEPS\u001b[39;49m\u001b[38;5;124;43m\"\u001b[39;49m\u001b[43m]\u001b[49m\n\u001b[1;32m    258\u001b[0m \u001b[43m\u001b[49m\u001b[43m)\u001b[49m\n\u001b[1;32m    260\u001b[0m \u001b[38;5;66;03m# CALCULATE ADVANTAGE\u001b[39;00m\n\u001b[1;32m    261\u001b[0m train_states, env_state, last_obs, last_done, hstates, rng \u001b[38;5;241m=\u001b[39m (runner_state\u001b[38;5;241m.\u001b[39mtrain_states,\n\u001b[1;32m    262\u001b[0m                                                                 runner_state\u001b[38;5;241m.\u001b[39menv_state,\n\u001b[1;32m    263\u001b[0m                                                                 runner_state\u001b[38;5;241m.\u001b[39mlast_obs,\n\u001b[1;32m    264\u001b[0m                                                                 runner_state\u001b[38;5;241m.\u001b[39mlast_done,\n\u001b[1;32m    265\u001b[0m                                                                 runner_state\u001b[38;5;241m.\u001b[39mhstates, runner_state\u001b[38;5;241m.\u001b[39mrng)\n",
      "    \u001b[0;31m[... skipping hidden 2 frame]\u001b[0m\n",
      "File \u001b[0;32m~/miniconda3/envs/waymax/lib/python3.10/site-packages/jax/_src/lax/control_flow/loops.py:337\u001b[0m, in \u001b[0;36m_check_scan_carry_type\u001b[0;34m(body_fun, in_carry, out_carry_tree, out_avals)\u001b[0m\n\u001b[1;32m    331\u001b[0m   \u001b[38;5;28;01melse\u001b[39;00m:\n\u001b[1;32m    332\u001b[0m     differences \u001b[38;5;241m=\u001b[39m \u001b[38;5;124m'\u001b[39m\u001b[38;5;130;01m\\n\u001b[39;00m\u001b[38;5;124m'\u001b[39m\u001b[38;5;241m.\u001b[39mjoin(\n\u001b[1;32m    333\u001b[0m         \u001b[38;5;124mf\u001b[39m\u001b[38;5;124m'\u001b[39m\u001b[38;5;124m  * \u001b[39m\u001b[38;5;132;01m{\u001b[39;00mcomponent(path)\u001b[38;5;132;01m}\u001b[39;00m\u001b[38;5;124m is a \u001b[39m\u001b[38;5;132;01m{\u001b[39;00mthing1\u001b[38;5;132;01m}\u001b[39;00m\u001b[38;5;124m but the corresponding component \u001b[39m\u001b[38;5;124m'\u001b[39m\n\u001b[1;32m    334\u001b[0m         \u001b[38;5;124mf\u001b[39m\u001b[38;5;124m'\u001b[39m\u001b[38;5;124mof the carry output is a \u001b[39m\u001b[38;5;132;01m{\u001b[39;00mthing2\u001b[38;5;132;01m}\u001b[39;00m\u001b[38;5;124m, so \u001b[39m\u001b[38;5;132;01m{\u001b[39;00mexplanation\u001b[38;5;132;01m}\u001b[39;00m\u001b[38;5;130;01m\\n\u001b[39;00m\u001b[38;5;124m'\u001b[39m\n\u001b[1;32m    335\u001b[0m         \u001b[38;5;28;01mfor\u001b[39;00m path, thing1, thing2, explanation\n\u001b[1;32m    336\u001b[0m         \u001b[38;5;129;01min\u001b[39;00m equality_errors(in_carry, out_carry))\n\u001b[0;32m--> 337\u001b[0m   \u001b[38;5;28;01mraise\u001b[39;00m \u001b[38;5;167;01mTypeError\u001b[39;00m(\n\u001b[1;32m    338\u001b[0m       \u001b[38;5;124m\"\u001b[39m\u001b[38;5;124mScanned function carry input and carry output must have the same \u001b[39m\u001b[38;5;124m\"\u001b[39m\n\u001b[1;32m    339\u001b[0m       \u001b[38;5;124m\"\u001b[39m\u001b[38;5;124mpytree structure, but they differ:\u001b[39m\u001b[38;5;130;01m\\n\u001b[39;00m\u001b[38;5;124m\"\u001b[39m\n\u001b[1;32m    340\u001b[0m       \u001b[38;5;124mf\u001b[39m\u001b[38;5;124m\"\u001b[39m\u001b[38;5;132;01m{\u001b[39;00mdifferences\u001b[38;5;132;01m}\u001b[39;00m\u001b[38;5;130;01m\\n\u001b[39;00m\u001b[38;5;124m\"\u001b[39m\n\u001b[1;32m    341\u001b[0m       \u001b[38;5;124m\"\u001b[39m\u001b[38;5;124mRevise the scanned function so that its output is a pair where the \u001b[39m\u001b[38;5;124m\"\u001b[39m\n\u001b[1;32m    342\u001b[0m       \u001b[38;5;124m\"\u001b[39m\u001b[38;5;124mfirst element has the same pytree structure as the first argument.\u001b[39m\u001b[38;5;124m\"\u001b[39m\n\u001b[1;32m    343\u001b[0m   )\n\u001b[1;32m    344\u001b[0m \u001b[38;5;28;01mif\u001b[39;00m \u001b[38;5;129;01mnot\u001b[39;00m \u001b[38;5;28mall\u001b[39m(_map(core\u001b[38;5;241m.\u001b[39mtypematch, in_avals, out_avals)):\n\u001b[1;32m    345\u001b[0m   differences \u001b[38;5;241m=\u001b[39m \u001b[38;5;124m'\u001b[39m\u001b[38;5;130;01m\\n\u001b[39;00m\u001b[38;5;124m'\u001b[39m\u001b[38;5;241m.\u001b[39mjoin(\n\u001b[1;32m    346\u001b[0m       \u001b[38;5;124mf\u001b[39m\u001b[38;5;124m'\u001b[39m\u001b[38;5;124m  * \u001b[39m\u001b[38;5;132;01m{\u001b[39;00mcomponent(path)\u001b[38;5;132;01m}\u001b[39;00m\u001b[38;5;124m has type \u001b[39m\u001b[38;5;132;01m{\u001b[39;00min_aval\u001b[38;5;241m.\u001b[39mstr_short()\u001b[38;5;132;01m}\u001b[39;00m\u001b[38;5;124m'\u001b[39m\n\u001b[1;32m    347\u001b[0m       \u001b[38;5;124m'\u001b[39m\u001b[38;5;124m but the corresponding output carry component has type \u001b[39m\u001b[38;5;124m'\u001b[39m\n\u001b[1;32m    348\u001b[0m       \u001b[38;5;124mf\u001b[39m\u001b[38;5;124m'\u001b[39m\u001b[38;5;132;01m{\u001b[39;00mout_aval\u001b[38;5;241m.\u001b[39mstr_short()\u001b[38;5;132;01m}\u001b[39;00m\u001b[38;5;132;01m{\u001b[39;00m_aval_mismatch_extra(in_aval,\u001b[38;5;250m \u001b[39mout_aval)\u001b[38;5;132;01m}\u001b[39;00m\u001b[38;5;130;01m\\n\u001b[39;00m\u001b[38;5;124m'\u001b[39m\n\u001b[1;32m    349\u001b[0m       \u001b[38;5;28;01mfor\u001b[39;00m path, in_aval, out_aval \u001b[38;5;129;01min\u001b[39;00m \u001b[38;5;28mzip\u001b[39m(paths, in_avals, out_avals)\n\u001b[1;32m    350\u001b[0m       \u001b[38;5;28;01mif\u001b[39;00m \u001b[38;5;129;01mnot\u001b[39;00m core\u001b[38;5;241m.\u001b[39mtypematch(in_aval, out_aval))\n",
      "\u001b[0;31mTypeError\u001b[0m: Scanned function carry input and carry output must have the same pytree structure, but they differ:\n  * the input carry runner_state is a <class 'utils.RunnerState'> but the corresponding component of the carry output is a <class 'utils.RunnerState'>, so their Python types differ\n\nRevise the scanned function so that its output is a pair where the first element has the same pytree structure as the first argument."
     ]
    },
    {
     "ename": "",
     "evalue": "",
     "output_type": "error",
     "traceback": [
      "\u001b[1;31mThe Kernel crashed while executing code in the current cell or a previous cell. \n",
      "\u001b[1;31mPlease review the code in the cell(s) to identify a possible cause of the failure. \n",
      "\u001b[1;31mClick <a href='https://aka.ms/vscodeJupyterKernelCrash'>here</a> for more info. \n",
      "\u001b[1;31mView Jupyter <a href='command:jupyter.viewOutput'>log</a> for further details."
     ]
    }
   ],
   "source": [
    "with jax.disable_jit(False):\n",
    "    train_jit = jax.jit(make_train(config, checkpoint_manager, env=env, scenario=scenario,\n",
    "                                    latest_update_step=latest_update_step, wandb_run_id=run.id)) \n",
    "    out = train_jit(rng, runner_state=runner_state)\n",
    "\n",
    "runner_state = out[\"runner_state\"]\n",
    "n_updates = runner_state[-1]\n",
    "runner_state: RunnerState = runner_state[0]"
   ]
  },
  {
   "cell_type": "code",
   "execution_count": null,
   "metadata": {},
   "outputs": [],
   "source": []
  }
 ],
 "metadata": {
  "kernelspec": {
   "display_name": "waymax",
   "language": "python",
   "name": "python3"
  },
  "language_info": {
   "codemirror_mode": {
    "name": "ipython",
    "version": 3
   },
   "file_extension": ".py",
   "mimetype": "text/x-python",
   "name": "python",
   "nbconvert_exporter": "python",
   "pygments_lexer": "ipython3",
   "version": "3.10.14"
  }
 },
 "nbformat": 4,
 "nbformat_minor": 2
}
