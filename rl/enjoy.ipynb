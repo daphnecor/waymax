{
 "cells": [
  {
   "cell_type": "code",
   "execution_count": 10,
   "metadata": {},
   "outputs": [
    {
     "name": "stdout",
     "output_type": "stream",
     "text": [
      "The autoreload extension is already loaded. To reload it, use:\n",
      "  %reload_ext autoreload\n"
     ]
    },
    {
     "name": "stderr",
     "output_type": "stream",
     "text": [
      "/home/jupyter-earle/miniconda3/envs/waymax/lib/python3.10/pty.py:89: RuntimeWarning: os.fork() was called. os.fork() is incompatible with multithreaded code, and JAX is multithreaded, so this will likely lead to a deadlock.\n",
      "  pid, fd = os.forkpty()\n"
     ]
    }
   ],
   "source": [
    "%load_ext autoreload\n",
    "%autoreload 2\n",
    "\n",
    "import imageio\n",
    "import jax\n",
    "from jax import numpy as jnp\n",
    "import numpy as np\n",
    "from omegaconf import OmegaConf\n",
    "from orbax import checkpoint as ocp\n",
    "from waymax import datatypes\n",
    "from waymax import visualization\n",
    "\n",
    "from agents import create_netty_actor\n",
    "from rl.config.config import Config\n",
    "from rl.mappo import RunnerState, init_config\n",
    "from rl.model import ActorRNN\n",
    "from rl.wrappers.marl import WaymaxWrapper\n",
    "from utils import batchify, init_or_restore_run\n",
    "!export CUDA_VISIBLE_DEVICES=0\n"
   ]
  },
  {
   "cell_type": "code",
   "execution_count": 53,
   "metadata": {},
   "outputs": [
    {
     "name": "stdout",
     "output_type": "stream",
     "text": [
      "--- TOTAL STARTUP COSTS (make data_iter + env) = 82.35243552550673 s ---\n",
      " of which \n",
      "\n",
      "--- DATA ITER COSTS = 9.169988334178925e-05 s ---\n",
      "--- NEXT DATA ITER COSTS = 82.35155886597931 s ---\n"
     ]
    }
   ],
   "source": [
    "# @hydra.main(version_base=None, config_path=\"config\", config_name=\"mappo_homogenous_rnn_waymax\")\n",
    "# Manually load the hydra\n",
    "config = Config(OmegaConf.load(\"config/mappo_homogenous_rnn_waymax.yaml\"))\n",
    "init_config(config)\n",
    "config.NUM_ENVS = 1\n",
    "rng = jax.random.PRNGKey(config.SEED)\n",
    "options = ocp.CheckpointManagerOptions(\n",
    "    max_to_keep=2, create=True)\n",
    "checkpoint_manager = ocp.CheckpointManager(\n",
    "    config.ckpt_dir, options=options)\n",
    "runner_state: RunnerState\n",
    "env: WaymaxWrapper\n",
    "latest_update_step = checkpoint_manager.latest_step()\n",
    "runner_state, env, scenario, latest_update_step, wandb_run_id, wandb_resume = \\\n",
    "    init_or_restore_run(config, checkpoint_manager, latest_update_step, rng)\n",
    "actor_network = ActorRNN(env.action_space(env.agents[0]).shape[0], config=config)"
   ]
  },
  {
   "cell_type": "code",
   "execution_count": 79,
   "metadata": {},
   "outputs": [],
   "source": [
    "# actor = create_netty_actor(network=actor_network, params=runner_state.train_states[0].params,\n",
    "#                             is_controlled_func=env.get_avail_actions)\n",
    "\n",
    "from utils import unbatchify\n",
    "\n",
    "\n",
    "rng = jax.random.PRNGKey(0)\n",
    "init_obs, init_state = env.reset(scenario, rng)\n",
    "actor_params = runner_state.train_states[0].params\n",
    "actor_hidden = runner_state.hstates[0]\n",
    "\n",
    "def step_env(carry, _):\n",
    "    rng, obs, state, done, actor_hidden = carry\n",
    "    # print(obs.shape)\n",
    "\n",
    "    # traj = datatypes.dynamic_index(\n",
    "    #     state.env_state.sim_trajectory, state.env_state.timestep, axis=-1, keepdims=True\n",
    "    # )\n",
    "    avail_actions = env.get_avail_actions(state.env_state)\n",
    "    avail_actions = jax.lax.stop_gradient(\n",
    "        batchify(avail_actions, env.agents, len(env.agents))\n",
    "    )\n",
    "    ac_in = (\n",
    "        obs[np.newaxis, :],\n",
    "        # obs,\n",
    "        done[np.newaxis, :],\n",
    "        # done,\n",
    "        avail_actions[np.newaxis, :],\n",
    "    )\n",
    "    actor_hidden, pi = actor_network.apply(actor_params, actor_hidden, ac_in)            \n",
    "    action = pi.sample(seed=rng)\n",
    "    env_act = unbatchify(\n",
    "        action, env.agents, config.NUM_ENVS, env.num_agents\n",
    "    )\n",
    "    env_act = {k: v.squeeze() for k, v in env_act.items()}\n",
    "\n",
    "    # outputs = [\n",
    "    #     jit_select_action({}, state, obs, None, rng)\n",
    "    #     for jit_select_action in jit_select_action_list\n",
    "    # ]\n",
    "    # action = agents.merge_actions(outputs)\n",
    "    obs, next_state, reward, done, info = env.step(state=state, action=env_act, scenario=scenario, key=rng)\n",
    "    rng, _ = jax.random.split(rng)\n",
    "    done = batchify(done, env.agents, env.num_agents)[:, 0]\n",
    "    obs = batchify(obs, env.agents, env.num_agents)\n",
    "\n",
    "    return (rng, obs, next_state, done, actor_hidden), next_state\n",
    "    \n",
    "frames = [visualization.plot_simulator_state(init_state.env_state, use_log_traj=False)]\n",
    "remaining_timesteps = init_state.env_state.remaining_timesteps\n",
    "done = jnp.zeros((len(env.agents),), dtype=bool)\n",
    "init_obs = batchify(init_obs, env.agents, env.num_agents)\n",
    "\n",
    "_, states = jax.lax.scan(step_env, (rng, init_obs, init_state, done, actor_hidden), None, length=remaining_timesteps)\n",
    "\n",
    "# states = []\n",
    "# rng, obs, state, done, actor_hidden = (rng, init_obs, init_state, done, actor_hidden)\n",
    "# for i in range(remaining_timesteps):\n",
    "#     carry, state = step_env((rng, obs, state, done, actor_hidden), None)\n",
    "#     rng, obs, state, done, actor_hidden = carry\n",
    "#     states.append(state)\n",
    "\n",
    "for i in range(remaining_timesteps):\n",
    "    if i % 5 == 0:\n",
    "        # state = jax.tree.map(lambda x: x[i] if len(x.shape) > 0 else x, states)\n",
    "        state = jax.tree.map(lambda x: x[i], states)\n",
    "        frames.append(visualization.plot_simulator_state(state.env_state, use_log_traj=False))\n",
    "\n",
    "imageio.mimsave(\"enjoy.gif\", frames, fps=10)"
   ]
  },
  {
   "cell_type": "code",
   "execution_count": null,
   "metadata": {},
   "outputs": [],
   "source": []
  }
 ],
 "metadata": {
  "kernelspec": {
   "display_name": "waymax",
   "language": "python",
   "name": "python3"
  },
  "language_info": {
   "codemirror_mode": {
    "name": "ipython",
    "version": 3
   },
   "file_extension": ".py",
   "mimetype": "text/x-python",
   "name": "python",
   "nbconvert_exporter": "python",
   "pygments_lexer": "ipython3",
   "version": "3.10.14"
  }
 },
 "nbformat": 4,
 "nbformat_minor": 2
}
